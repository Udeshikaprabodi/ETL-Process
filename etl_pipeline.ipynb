{
 "cells": [
  {
   "cell_type": "markdown",
   "metadata": {},
   "source": [
    "Import libraries"
   ]
  },
  {
   "cell_type": "code",
   "execution_count": 1,
   "metadata": {},
   "outputs": [],
   "source": [
    "import pandas as pd\n",
    "from sqlalchemy import create_engine\n",
    "from sqlalchemy.orm import sessionmaker\n",
    "from datetime import datetime\n",
    "import numpy as np\n"
   ]
  },
  {
   "cell_type": "markdown",
   "metadata": {},
   "source": [
    "Read The CSV File"
   ]
  },
  {
   "cell_type": "code",
   "execution_count": 5,
   "metadata": {},
   "outputs": [],
   "source": [
    "df = pd.read_csv('Airline_Delay_Cause.csv')"
   ]
  },
  {
   "cell_type": "markdown",
   "metadata": {},
   "source": [
    "Analyzing Data"
   ]
  },
  {
   "cell_type": "code",
   "execution_count": 6,
   "metadata": {},
   "outputs": [
    {
     "name": "stdout",
     "output_type": "stream",
     "text": [
      "   year  month carrier       carrier_name airport  \\\n",
      "0  2023      8      9E  Endeavor Air Inc.     ABE   \n",
      "1  2023      8      9E  Endeavor Air Inc.     ABY   \n",
      "2  2023      8      9E  Endeavor Air Inc.     AEX   \n",
      "3  2023      8      9E  Endeavor Air Inc.     AGS   \n",
      "4  2023      8      9E  Endeavor Air Inc.     ALB   \n",
      "5  2023      8      9E  Endeavor Air Inc.     ATL   \n",
      "6  2023      8      9E  Endeavor Air Inc.     AUS   \n",
      "7  2023      8      9E  Endeavor Air Inc.     AVL   \n",
      "8  2023      8      9E  Endeavor Air Inc.     AZO   \n",
      "9  2023      8      9E  Endeavor Air Inc.     BDL   \n",
      "\n",
      "                                        airport_name  arr_flights  arr_del15  \\\n",
      "0  Allentown/Bethlehem/Easton, PA: Lehigh Valley ...         89.0       13.0   \n",
      "1             Albany, GA: Southwest Georgia Regional         62.0       10.0   \n",
      "2           Alexandria, LA: Alexandria International         62.0       10.0   \n",
      "3        Augusta, GA: Augusta Regional at Bush Field         66.0       12.0   \n",
      "4                   Albany, NY: Albany International         92.0       22.0   \n",
      "5  Atlanta, GA: Hartsfield-Jackson Atlanta Intern...       1636.0      256.0   \n",
      "6       Austin, TX: Austin - Bergstrom International         75.0       12.0   \n",
      "7                  Asheville, NC: Asheville Regional         59.0        7.0   \n",
      "8  Kalamazoo, MI: Kalamazoo/Battle Creek Internat...         62.0       13.0   \n",
      "9                Hartford, CT: Bradley International         30.0        4.0   \n",
      "\n",
      "   carrier_ct  weather_ct  ...  security_ct  late_aircraft_ct  arr_cancelled  \\\n",
      "0        2.25        1.60  ...          0.0              5.99            2.0   \n",
      "1        1.97        0.04  ...          0.0              7.42            0.0   \n",
      "2        2.73        1.18  ...          0.0              4.28            1.0   \n",
      "3        3.69        2.27  ...          0.0              1.57            1.0   \n",
      "4        7.76        0.00  ...          0.0             11.28            2.0   \n",
      "5       55.98       27.81  ...          0.0            108.57           32.0   \n",
      "6        5.62        0.97  ...          0.0              1.00            0.0   \n",
      "7        3.32        0.00  ...          0.0              3.26            2.0   \n",
      "8        6.53        0.94  ...          0.0              1.99            0.0   \n",
      "9        0.00        0.82  ...          0.0              3.18            1.0   \n",
      "\n",
      "   arr_diverted  arr_delay  carrier_delay  weather_delay  nas_delay  \\\n",
      "0           1.0     1375.0           71.0          761.0      118.0   \n",
      "1           1.0      799.0          218.0            1.0       62.0   \n",
      "2           0.0      766.0           56.0          188.0       78.0   \n",
      "3           1.0     1397.0          471.0          320.0      388.0   \n",
      "4           0.0     1530.0          628.0            0.0      134.0   \n",
      "5          11.0    29768.0         9339.0         4557.0     4676.0   \n",
      "6           0.0      843.0          535.0          170.0      111.0   \n",
      "7           0.0      324.0          117.0            0.0       25.0   \n",
      "8           0.0      707.0          470.0           77.0       87.0   \n",
      "9           0.0     1421.0            0.0          532.0        0.0   \n",
      "\n",
      "   security_delay  late_aircraft_delay  \n",
      "0             0.0                425.0  \n",
      "1             0.0                518.0  \n",
      "2             0.0                444.0  \n",
      "3             0.0                218.0  \n",
      "4             0.0                768.0  \n",
      "5             0.0              11196.0  \n",
      "6             0.0                 27.0  \n",
      "7             0.0                182.0  \n",
      "8             0.0                 73.0  \n",
      "9             0.0                889.0  \n",
      "\n",
      "[10 rows x 21 columns]\n"
     ]
    }
   ],
   "source": [
    "print(df.head(10))"
   ]
  },
  {
   "cell_type": "code",
   "execution_count": 7,
   "metadata": {},
   "outputs": [
    {
     "name": "stdout",
     "output_type": "stream",
     "text": [
      "        year  month carrier            carrier_name airport  \\\n",
      "171656  2013      8      YV      Mesa Airlines Inc.     IAH   \n",
      "171657  2013      8      YV      Mesa Airlines Inc.     BDL   \n",
      "171658  2013      8      YV      Mesa Airlines Inc.     DAB   \n",
      "171659  2013      8      YV      Mesa Airlines Inc.     OAJ   \n",
      "171660  2013      8      YV      Mesa Airlines Inc.     AVL   \n",
      "171661  2013      8      YV      Mesa Airlines Inc.     TRI   \n",
      "171662  2013      8      YV      Mesa Airlines Inc.     YUM   \n",
      "171663  2013      8      YV      Mesa Airlines Inc.     SLC   \n",
      "171664  2013      8      DL    Delta Air Lines Inc.     SBN   \n",
      "171665  2013      8      F9  Frontier Airlines Inc.     MTJ   \n",
      "\n",
      "                                             airport_name  arr_flights  \\\n",
      "171656  Houston, TX: George Bush Intercontinental/Houston          3.0   \n",
      "171657                Hartford, CT: Bradley International         20.0   \n",
      "171658     Daytona Beach, FL: Daytona Beach International          7.0   \n",
      "171659      Jacksonville/Camp Lejeune, NC: Albert J Ellis          8.0   \n",
      "171660                  Asheville, NC: Asheville Regional         24.0   \n",
      "171661     Bristol/Johnson City/Kingsport, TN: Tri Cities          7.0   \n",
      "171662             Yuma, AZ: Yuma MCAS/Yuma International          2.0   \n",
      "171663   Salt Lake City, UT: Salt Lake City International          2.0   \n",
      "171664           South Bend, IN: South Bend International          1.0   \n",
      "171665              Montrose/Delta, CO: Montrose Regional          1.0   \n",
      "\n",
      "        arr_del15  carrier_ct  weather_ct  ...  security_ct  late_aircraft_ct  \\\n",
      "171656        0.0        0.00         0.0  ...          0.0              0.00   \n",
      "171657        3.0        0.52         0.0  ...          0.0              1.43   \n",
      "171658        1.0        0.69         0.0  ...          0.0              0.00   \n",
      "171659        0.0        0.00         0.0  ...          0.0              0.00   \n",
      "171660        6.0        2.31         0.0  ...          0.0              1.00   \n",
      "171661        1.0        0.78         0.0  ...          0.0              0.00   \n",
      "171662        1.0        0.00         0.0  ...          0.0              1.00   \n",
      "171663        0.0        0.00         0.0  ...          0.0              0.00   \n",
      "171664        1.0        1.00         0.0  ...          0.0              0.00   \n",
      "171665        0.0        0.00         0.0  ...          0.0              0.00   \n",
      "\n",
      "        arr_cancelled  arr_diverted  arr_delay  carrier_delay  weather_delay  \\\n",
      "171656            0.0           0.0        0.0            0.0            0.0   \n",
      "171657            2.0           0.0       85.0           11.0            0.0   \n",
      "171658            1.0           0.0      119.0           82.0            0.0   \n",
      "171659            0.0           0.0        0.0            0.0            0.0   \n",
      "171660            0.0           0.0      149.0           66.0            0.0   \n",
      "171661            0.0           0.0       23.0           18.0            0.0   \n",
      "171662            0.0           0.0       17.0            0.0            0.0   \n",
      "171663            0.0           0.0        0.0            0.0            0.0   \n",
      "171664            0.0           0.0       18.0           18.0            0.0   \n",
      "171665            0.0           0.0        0.0            0.0            0.0   \n",
      "\n",
      "        nas_delay  security_delay  late_aircraft_delay  \n",
      "171656        0.0             0.0                  0.0  \n",
      "171657       30.0             0.0                 44.0  \n",
      "171658       37.0             0.0                  0.0  \n",
      "171659        0.0             0.0                  0.0  \n",
      "171660       64.0             0.0                 19.0  \n",
      "171661        5.0             0.0                  0.0  \n",
      "171662        0.0             0.0                 17.0  \n",
      "171663        0.0             0.0                  0.0  \n",
      "171664        0.0             0.0                  0.0  \n",
      "171665        0.0             0.0                  0.0  \n",
      "\n",
      "[10 rows x 21 columns]\n"
     ]
    }
   ],
   "source": [
    "print(df.tail(10))\n"
   ]
  },
  {
   "cell_type": "code",
   "execution_count": 8,
   "metadata": {},
   "outputs": [
    {
     "name": "stdout",
     "output_type": "stream",
     "text": [
      "60\n"
     ]
    }
   ],
   "source": [
    "print(pd.options.display.max_rows)"
   ]
  },
  {
   "cell_type": "code",
   "execution_count": 9,
   "metadata": {},
   "outputs": [
    {
     "name": "stdout",
     "output_type": "stream",
     "text": [
      "<class 'pandas.core.frame.DataFrame'>\n",
      "RangeIndex: 171666 entries, 0 to 171665\n",
      "Data columns (total 21 columns):\n",
      " #   Column               Non-Null Count   Dtype  \n",
      "---  ------               --------------   -----  \n",
      " 0   year                 171666 non-null  int64  \n",
      " 1   month                171666 non-null  int64  \n",
      " 2   carrier              171666 non-null  object \n",
      " 3   carrier_name         171666 non-null  object \n",
      " 4   airport              171666 non-null  object \n",
      " 5   airport_name         171666 non-null  object \n",
      " 6   arr_flights          171426 non-null  float64\n",
      " 7   arr_del15            171223 non-null  float64\n",
      " 8   carrier_ct           171426 non-null  float64\n",
      " 9   weather_ct           171426 non-null  float64\n",
      " 10  nas_ct               171426 non-null  float64\n",
      " 11  security_ct          171426 non-null  float64\n",
      " 12  late_aircraft_ct     171426 non-null  float64\n",
      " 13  arr_cancelled        171426 non-null  float64\n",
      " 14  arr_diverted         171426 non-null  float64\n",
      " 15  arr_delay            171426 non-null  float64\n",
      " 16  carrier_delay        171426 non-null  float64\n",
      " 17  weather_delay        171426 non-null  float64\n",
      " 18  nas_delay            171426 non-null  float64\n",
      " 19  security_delay       171426 non-null  float64\n",
      " 20  late_aircraft_delay  171426 non-null  float64\n",
      "dtypes: float64(15), int64(2), object(4)\n",
      "memory usage: 27.5+ MB\n",
      "None\n"
     ]
    }
   ],
   "source": [
    "print(df.info()) "
   ]
  },
  {
   "cell_type": "markdown",
   "metadata": {},
   "source": [
    "Cleaning the Data"
   ]
  },
  {
   "cell_type": "code",
   "execution_count": 10,
   "metadata": {},
   "outputs": [],
   "source": [
    "df.dropna(inplace=True)"
   ]
  }
 ],
 "metadata": {
  "kernelspec": {
   "display_name": "etl_jupyter_notebook",
   "language": "python",
   "name": "python3"
  },
  "language_info": {
   "codemirror_mode": {
    "name": "ipython",
    "version": 3
   },
   "file_extension": ".py",
   "mimetype": "text/x-python",
   "name": "python",
   "nbconvert_exporter": "python",
   "pygments_lexer": "ipython3",
   "version": "3.12.7"
  }
 },
 "nbformat": 4,
 "nbformat_minor": 2
}
